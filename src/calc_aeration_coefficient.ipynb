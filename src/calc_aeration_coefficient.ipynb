{
 "cells": [
  {
   "cell_type": "code",
   "execution_count": 11,
   "id": "db9d3d3f",
   "metadata": {},
   "outputs": [],
   "source": [
    "import pandas as pd"
   ]
  },
  {
   "cell_type": "code",
   "execution_count": 12,
   "id": "d7641e38",
   "metadata": {},
   "outputs": [],
   "source": [
    "aeration_data = pd.DataFrame({\n",
    "    \"Aeration Area, mm²\": [\n",
    "        154.0, 154.0, 154.0, 154.0, 154.0, 154.0, 154.0,\n",
    "        517.0, 517.0, 517.0, 517.0, 517.0, 517.0, 517.0,\n",
    "        2289.0, 2289.0, 2289.0, 2289.0, 2289.0, 2289.0, 2289.0,\n",
    "        3017.5, 3017.5, 3017.5, 3017.5, 3017.5, 3017.5, 3017.5\n",
    "    ],\n",
    "    \"Time\": [\n",
    "        0.0, 4.0, 8.0, 12.0, 16.0, 20.0, 24.0,\n",
    "        0.0, 4.0, 8.0, 12.0, 16.0, 20.0, 24.0,\n",
    "        0.0, 4.0, 8.0, 12.0, 16.0, 20.0, 24.0,\n",
    "        0.0, 4.0, 8.0, 12.0, 16.0, 20.0, 24.0\n",
    "    ],\n",
    "    \"OpticalDensity\": [\n",
    "        0.088, 0.215, 0.580, 0.820, 0.885, 0.941, 0.935,\n",
    "        0.088, 0.225, 0.635, 0.895, 0.935, 0.944, 0.940,\n",
    "        0.088, 0.245, 0.720, 1.050, 1.095, 1.124, 1.118,\n",
    "        0.088, 0.255, 0.750, 1.080, 1.125, 1.193, 1.185\n",
    "    ]\n",
    "})"
   ]
  },
  {
   "cell_type": "code",
   "execution_count": 13,
   "id": "aa4d8844",
   "metadata": {},
   "outputs": [
    {
     "name": "stdout",
     "output_type": "stream",
     "text": [
      "=== AERATION COEFFICIENT CALCULATION ===\n",
      "\n",
      "Aeration 154.0 mm²: Final OD = 0.935\n",
      "Aeration 517.0 mm²: Final OD = 0.94\n",
      "Aeration 2289.0 mm²: Final OD = 1.118\n",
      "Aeration 3017.5 mm²: Final OD = 1.185\n",
      "\n",
      "Reference (highest aeration 3017.5 mm²): OD = 1.185\n",
      "\n",
      "Aeration 154.0 mm²: Coefficient = 0.789030\n",
      "Aeration 517.0 mm²: Coefficient = 0.793249\n",
      "Aeration 2289.0 mm²: Coefficient = 0.943460\n",
      "Aeration 3017.5 mm²: Coefficient = 1.000000\n",
      "\n",
      "=== FORMATTED AERATION COEFFICIENTS ===\n",
      "_AERATION_COEFFICIENTS = (\n",
      "    (\"154.0mm²\", 0.789030),\n",
      "    (\"517.0mm²\", 0.793249),\n",
      "    (\"2289.0mm²\", 0.943460),\n",
      "    (\"3017.5mm²\", 1.000000),\n",
      ")\n",
      "\n",
      "Summary:\n",
      "  154.0mm²: 0.789030\n",
      "  517.0mm²: 0.793249\n",
      "  2289.0mm²: 0.943460\n",
      "  3017.5mm²: 1.000000\n"
     ]
    },
    {
     "data": {
      "text/plain": [
       "(('154.0mm²', 0.7890295358649789),\n",
       " ('517.0mm²', 0.7932489451476793),\n",
       " ('2289.0mm²', 0.9434599156118144),\n",
       " ('3017.5mm²', 1.0))"
      ]
     },
     "execution_count": 13,
     "metadata": {},
     "output_type": "execute_result"
    }
   ],
   "source": [
    "# Calculate aeration coefficients similar to temperature coefficients\n",
    "# Based on final OpticalDensity values, with highest aeration (3017.5 mm²) = 1.0\n",
    "\n",
    "print(\"=== AERATION COEFFICIENT CALCULATION ===\")\n",
    "print()\n",
    "\n",
    "# Get final OpticalDensity values for each aeration level (at t=24h)\n",
    "aeration_final_od = {}\n",
    "unique_aeration_areas = sorted(aeration_data[\"Aeration Area, mm²\"].unique())\n",
    "\n",
    "for area in unique_aeration_areas:\n",
    "    # Get the final OpticalDensity value (at t=24h) for this aeration area\n",
    "    area_data = aeration_data[aeration_data[\"Aeration Area, mm²\"] == area]\n",
    "    final_od = area_data[area_data[\"Time\"] == 24.0][\"OpticalDensity\"].iloc[0]\n",
    "    aeration_final_od[area] = final_od\n",
    "    print(f\"Aeration {area} mm²: Final OD = {final_od}\")\n",
    "\n",
    "print()\n",
    "\n",
    "# Calculate coefficients with highest aeration (3017.5 mm²) as reference = 1.0\n",
    "max_aeration = max(unique_aeration_areas)  # 3017.5 mm²\n",
    "max_od = aeration_final_od[max_aeration]   # 1.185\n",
    "\n",
    "print(f\"Reference (highest aeration {max_aeration} mm²): OD = {max_od}\")\n",
    "print()\n",
    "\n",
    "# Calculate coefficients as ratios relative to the maximum\n",
    "aeration_coefficients = {}\n",
    "for area in unique_aeration_areas:\n",
    "    coefficient = aeration_final_od[area] / max_od\n",
    "    aeration_coefficients[area] = coefficient\n",
    "    print(f\"Aeration {area} mm²: Coefficient = {coefficient:.6f}\")\n",
    "\n",
    "print()\n",
    "print(\"=== FORMATTED AERATION COEFFICIENTS ===\")\n",
    "\n",
    "# Format similar to your temperature coefficients\n",
    "_AERATION_COEFFICIENTS = tuple(\n",
    "    (f\"{area}mm²\", coeff) for area, coeff in aeration_coefficients.items()\n",
    ")\n",
    "\n",
    "print(\"_AERATION_COEFFICIENTS = (\")\n",
    "for area_label, coeff in _AERATION_COEFFICIENTS:\n",
    "    print(f'    (\"{area_label}\", {coeff:.6f}),')\n",
    "print(\")\")\n",
    "\n",
    "print()\n",
    "print(\"Summary:\")\n",
    "for area_label, coeff in _AERATION_COEFFICIENTS:\n",
    "    print(f\"  {area_label}: {coeff:.6f}\")\n",
    "    \n",
    "_AERATION_COEFFICIENTS"
   ]
  },
  {
   "cell_type": "code",
   "execution_count": null,
   "id": "537ebfa1",
   "metadata": {},
   "outputs": [],
   "source": []
  }
 ],
 "metadata": {
  "kernelspec": {
   "display_name": "matmodmed312",
   "language": "python",
   "name": "python3"
  },
  "language_info": {
   "codemirror_mode": {
    "name": "ipython",
    "version": 3
   },
   "file_extension": ".py",
   "mimetype": "text/x-python",
   "name": "python",
   "nbconvert_exporter": "python",
   "pygments_lexer": "ipython3",
   "version": "3.12.11"
  }
 },
 "nbformat": 4,
 "nbformat_minor": 5
}
