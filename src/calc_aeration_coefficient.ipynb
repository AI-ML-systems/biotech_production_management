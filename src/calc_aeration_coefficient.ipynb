{
 "cells": [
  {
   "cell_type": "code",
   "execution_count": 1,
   "id": "db9d3d3f",
   "metadata": {},
   "outputs": [],
   "source": [
    "import pandas as pd\n",
    "\n",
    "from coefficient_utils import calculate_coefficients\n",
    "from coefficient_utils import extract_final_values\n",
    "from coefficient_utils import format_coefficients\n",
    "from coefficient_utils import print_coefficient_report"
   ]
  },
  {
   "cell_type": "code",
   "execution_count": 2,
   "id": "d7641e38",
   "metadata": {},
   "outputs": [],
   "source": [
    "aeration_data = pd.DataFrame({\n",
    "    \"Aeration Area, mm²\": [\n",
    "        154.0, 154.0, 154.0, 154.0, 154.0, 154.0, 154.0,\n",
    "        517.0, 517.0, 517.0, 517.0, 517.0, 517.0, 517.0,\n",
    "        2289.0, 2289.0, 2289.0, 2289.0, 2289.0, 2289.0, 2289.0,\n",
    "        3017.5, 3017.5, 3017.5, 3017.5, 3017.5, 3017.5, 3017.5\n",
    "    ],\n",
    "    \"Time\": [\n",
    "        0.0, 4.0, 8.0, 12.0, 16.0, 20.0, 24.0,\n",
    "        0.0, 4.0, 8.0, 12.0, 16.0, 20.0, 24.0,\n",
    "        0.0, 4.0, 8.0, 12.0, 16.0, 20.0, 24.0,\n",
    "        0.0, 4.0, 8.0, 12.0, 16.0, 20.0, 24.0\n",
    "    ],\n",
    "    \"OpticalDensity\": [\n",
    "        0.088, 0.215, 0.580, 0.820, 0.885, 0.941, 0.935,\n",
    "        0.088, 0.225, 0.635, 0.895, 0.935, 0.944, 0.940,\n",
    "        0.088, 0.245, 0.720, 1.050, 1.095, 1.124, 1.118,\n",
    "        0.088, 0.255, 0.750, 1.080, 1.125, 1.193, 1.185\n",
    "    ]\n",
    "})"
   ]
  },
  {
   "cell_type": "code",
   "execution_count": null,
   "id": "aa4d8844",
   "metadata": {},
   "outputs": [
    {
     "name": "stdout",
     "output_type": "stream",
     "text": [
      "  154.0mm²: 0.789030\n",
      "  517.0mm²: 0.793249\n",
      "  2289.0mm²: 0.943460\n",
      "  3017.5mm²: 1.000000\n"
     ]
    }
   ],
   "source": [
    "aeration_final_od = extract_final_values(aeration_data, \"Aeration Area, mm²\")\n",
    "aeration_coefficients = calculate_coefficients(aeration_final_od, reference_key=3017.5)\n",
    "aeration_coefficients = format_coefficients(aeration_coefficients, \"mm²\")\n",
    "\n",
    "print_coefficient_report(aeration_coefficients)"
   ]
  }
 ],
 "metadata": {
  "kernelspec": {
   "display_name": ".venv312",
   "language": "python",
   "name": "python3"
  },
  "language_info": {
   "codemirror_mode": {
    "name": "ipython",
    "version": 3
   },
   "file_extension": ".py",
   "mimetype": "text/x-python",
   "name": "python",
   "nbconvert_exporter": "python",
   "pygments_lexer": "ipython3",
   "version": "3.12.10"
  }
 },
 "nbformat": 4,
 "nbformat_minor": 5
}
