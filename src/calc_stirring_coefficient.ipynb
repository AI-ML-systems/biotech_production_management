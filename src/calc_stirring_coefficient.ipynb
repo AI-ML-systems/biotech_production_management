{
 "cells": [
  {
   "cell_type": "code",
   "execution_count": 1,
   "id": "9a3162b2",
   "metadata": {},
   "outputs": [],
   "source": [
    "import pandas as pd\n",
    "\n",
    "from coefficient_utils import calculate_coefficients\n",
    "from coefficient_utils import extract_final_values\n",
    "from coefficient_utils import format_coefficients\n",
    "from coefficient_utils import print_coefficient_report\n"
   ]
  },
  {
   "cell_type": "code",
   "execution_count": 2,
   "id": "9a706a5d",
   "metadata": {},
   "outputs": [],
   "source": [
    "stirring_data = pd.DataFrame({\n",
    "    \"Stirring Rate, rpm\": [\n",
    "        0.0, 0.0, 0.0, 0.0, 0.0, 0.0, 0.0,\n",
    "        50.0, 50.0, 50.0, 50.0, 50.0, 50.0, 50.0,\n",
    "        100.0, 100.0, 100.0, 100.0, 100.0, 100.0, 100.0,\n",
    "        150.0, 150.0, 150.0, 150.0, 150.0, 150.0, 150.0\n",
    "    ],\n",
    "    \"Time\": [\n",
    "        0.0, 4.0, 8.0, 12.0, 16.0, 20.0, 24.0,\n",
    "        0.0, 4.0, 8.0, 12.0, 16.0, 20.0, 24.0,\n",
    "        0.0, 4.0, 8.0, 12.0, 16.0, 20.0, 24.0,\n",
    "        0.0, 4.0, 8.0, 12.0, 16.0, 20.0, 24.0\n",
    "    ],\n",
    "    \"OpticalDensity\": [\n",
    "        0.088, 0.191, 0.485, 0.690, 0.745, 0.836, 0.825,\n",
    "        0.088, 0.242, 0.697, 0.988, 1.026, 1.056, 1.045,\n",
    "        0.088, 0.210, 0.580, 0.820, 0.880, 0.919, 0.910,\n",
    "        0.088, 0.186, 0.503, 0.710, 0.765, 0.812, 0.802\n",
    "    ]\n",
    "})"
   ]
  },
  {
   "cell_type": "code",
   "execution_count": null,
   "id": "fe19af30",
   "metadata": {},
   "outputs": [
    {
     "name": "stdout",
     "output_type": "stream",
     "text": [
      "  0.0rpm: 0.789474\n",
      "  50.0rpm: 1.000000\n",
      "  100.0rpm: 0.870813\n",
      "  150.0rpm: 0.767464\n"
     ]
    }
   ],
   "source": [
    "stirring_final_od = extract_final_values(stirring_data, \"Stirring Rate, rpm\")\n",
    "stirring_coefficients = calculate_coefficients(stirring_final_od, reference_key=50.0)\n",
    "stirring_coefficients = format_coefficients(stirring_coefficients, \"rpm\")\n",
    "\n",
    "print_coefficient_report(stirring_coefficients)"
   ]
  }
 ],
 "metadata": {
  "kernelspec": {
   "display_name": ".venv312",
   "language": "python",
   "name": "python3"
  },
  "language_info": {
   "codemirror_mode": {
    "name": "ipython",
    "version": 3
   },
   "file_extension": ".py",
   "mimetype": "text/x-python",
   "name": "python",
   "nbconvert_exporter": "python",
   "pygments_lexer": "ipython3",
   "version": "3.12.10"
  }
 },
 "nbformat": 4,
 "nbformat_minor": 5
}
