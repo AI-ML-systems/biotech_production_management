{
 "cells": [
  {
   "cell_type": "code",
   "execution_count": 5,
   "id": "9a3162b2",
   "metadata": {},
   "outputs": [],
   "source": [
    "import pandas as pd"
   ]
  },
  {
   "cell_type": "code",
   "execution_count": 6,
   "id": "9a706a5d",
   "metadata": {},
   "outputs": [],
   "source": [
    "stirring_data = pd.DataFrame({\n",
    "    \"Stirring Rate, rpm\": [\n",
    "        0.0, 0.0, 0.0, 0.0, 0.0, 0.0, 0.0,\n",
    "        50.0, 50.0, 50.0, 50.0, 50.0, 50.0, 50.0,\n",
    "        100.0, 100.0, 100.0, 100.0, 100.0, 100.0, 100.0,\n",
    "        150.0, 150.0, 150.0, 150.0, 150.0, 150.0, 150.0\n",
    "    ],\n",
    "    \"Time\": [\n",
    "        0.0, 4.0, 8.0, 12.0, 16.0, 20.0, 24.0,\n",
    "        0.0, 4.0, 8.0, 12.0, 16.0, 20.0, 24.0,\n",
    "        0.0, 4.0, 8.0, 12.0, 16.0, 20.0, 24.0,\n",
    "        0.0, 4.0, 8.0, 12.0, 16.0, 20.0, 24.0\n",
    "    ],\n",
    "    \"OpticalDensity\": [\n",
    "        0.088, 0.191, 0.485, 0.690, 0.745, 0.836, 0.825,\n",
    "        0.088, 0.242, 0.697, 0.988, 1.026, 1.056, 1.045,\n",
    "        0.088, 0.210, 0.580, 0.820, 0.880, 0.919, 0.910,\n",
    "        0.088, 0.186, 0.503, 0.710, 0.765, 0.812, 0.802\n",
    "    ]\n",
    "})"
   ]
  },
  {
   "cell_type": "code",
   "execution_count": 7,
   "id": "17ae71da",
   "metadata": {},
   "outputs": [
    {
     "name": "stdout",
     "output_type": "stream",
     "text": [
      "=== STIRRING COEFFICIENT CALCULATION ===\n",
      "\n",
      "Stirring 0.0 rpm: Final OD = 0.825\n",
      "Stirring 50.0 rpm: Final OD = 1.045\n",
      "Stirring 100.0 rpm: Final OD = 0.91\n",
      "Stirring 150.0 rpm: Final OD = 0.802\n",
      "\n",
      "Reference (optimal stirring 50.0 rpm): OD = 1.045\n",
      "\n",
      "Stirring 0.0 rpm: Coefficient = 0.789474\n",
      "Stirring 50.0 rpm: Coefficient = 1.000000\n",
      "Stirring 100.0 rpm: Coefficient = 0.870813\n",
      "Stirring 150.0 rpm: Coefficient = 0.767464\n",
      "\n",
      "=== FORMATTED STIRRING COEFFICIENTS ===\n",
      "_STIRRING_COEFFICIENTS = (\n",
      "    (\"0rpm\", 0.789474),\n",
      "    (\"50rpm\", 1.000000),\n",
      "    (\"100rpm\", 0.870813),\n",
      "    (\"150rpm\", 0.767464),\n",
      ")\n",
      "\n",
      "Summary:\n",
      "  0rpm: 0.789474\n",
      "  50rpm: 1.000000\n",
      "  100rpm: 0.870813\n",
      "  150rpm: 0.767464\n"
     ]
    },
    {
     "data": {
      "text/plain": [
       "(('0rpm', 0.7894736842105263),\n",
       " ('50rpm', 1.0),\n",
       " ('100rpm', 0.8708133971291867),\n",
       " ('150rpm', 0.767464114832536))"
      ]
     },
     "execution_count": 7,
     "metadata": {},
     "output_type": "execute_result"
    }
   ],
   "source": [
    "# Calculate stirring coefficients similar to temperature and aeration coefficients\n",
    "# Based on final OpticalDensity values, with highest stirring rate (50 rpm) = 1.0\n",
    "\n",
    "print(\"=== STIRRING COEFFICIENT CALCULATION ===\")\n",
    "print()\n",
    "\n",
    "# Get final OpticalDensity values for each stirring rate (at t=24h)\n",
    "stirring_final_od = {}\n",
    "unique_stirring_rates = sorted(stirring_data[\"Stirring Rate, rpm\"].unique())\n",
    "\n",
    "for rate in unique_stirring_rates:\n",
    "    # Get the final OpticalDensity value (at t=24h) for this stirring rate\n",
    "    rate_data = stirring_data[stirring_data[\"Stirring Rate, rpm\"] == rate]\n",
    "    final_od = rate_data[rate_data[\"Time\"] == 24.0][\"OpticalDensity\"].iloc[0]\n",
    "    stirring_final_od[rate] = final_od\n",
    "    print(f\"Stirring {rate} rpm: Final OD = {final_od}\")\n",
    "\n",
    "print()\n",
    "\n",
    "# Calculate coefficients with 50 rpm as reference = 1.0 (it has the highest final OD)\n",
    "reference_rate = 50.0  # 50 rpm has the highest final OD = 1.045\n",
    "reference_od = stirring_final_od[reference_rate]   # 1.045\n",
    "\n",
    "print(f\"Reference (optimal stirring {reference_rate} rpm): OD = {reference_od}\")\n",
    "print()\n",
    "\n",
    "# Calculate coefficients as ratios relative to the reference (50 rpm)\n",
    "stirring_coefficients = {}\n",
    "for rate in unique_stirring_rates:\n",
    "    coefficient = stirring_final_od[rate] / reference_od\n",
    "    stirring_coefficients[rate] = coefficient\n",
    "    print(f\"Stirring {rate} rpm: Coefficient = {coefficient:.6f}\")\n",
    "\n",
    "print()\n",
    "print(\"=== FORMATTED STIRRING COEFFICIENTS ===\")\n",
    "\n",
    "# Format similar to your temperature coefficients\n",
    "_STIRRING_COEFFICIENTS = tuple(\n",
    "    (f\"{int(rate)}rpm\", coeff) for rate, coeff in stirring_coefficients.items()\n",
    ")\n",
    "\n",
    "print(\"_STIRRING_COEFFICIENTS = (\")\n",
    "for rate_label, coeff in _STIRRING_COEFFICIENTS:\n",
    "    print(f'    (\"{rate_label}\", {coeff:.6f}),')\n",
    "print(\")\")\n",
    "\n",
    "print()\n",
    "print(\"Summary:\")\n",
    "for rate_label, coeff in _STIRRING_COEFFICIENTS:\n",
    "    print(f\"  {rate_label}: {coeff:.6f}\")\n",
    "    \n",
    "_STIRRING_COEFFICIENTS"
   ]
  }
 ],
 "metadata": {
  "kernelspec": {
   "display_name": "matmodmed312",
   "language": "python",
   "name": "python3"
  },
  "language_info": {
   "codemirror_mode": {
    "name": "ipython",
    "version": 3
   },
   "file_extension": ".py",
   "mimetype": "text/x-python",
   "name": "python",
   "nbconvert_exporter": "python",
   "pygments_lexer": "ipython3",
   "version": "3.12.11"
  }
 },
 "nbformat": 4,
 "nbformat_minor": 5
}
