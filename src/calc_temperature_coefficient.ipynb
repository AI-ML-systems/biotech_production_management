{
 "cells": [
  {
   "cell_type": "code",
   "execution_count": 1,
   "id": "3957262f",
   "metadata": {},
   "outputs": [],
   "source": [
    "import pandas as pd\n",
    "\n",
    "from coefficient_utils import calculate_coefficients\n",
    "from coefficient_utils import extract_final_values\n",
    "from coefficient_utils import format_coefficients\n",
    "from coefficient_utils import print_coefficient_report\n"
   ]
  },
  {
   "cell_type": "code",
   "execution_count": 2,
   "id": "f39f0bd0",
   "metadata": {},
   "outputs": [],
   "source": [
    "temperature_data = pd.DataFrame({\n",
    "    \"t, °C\": [\n",
    "        35.0, 35.0, 35.0, 35.0, 35.0, 35.0, 35.0,\n",
    "        37.0, 37.0, 37.0, 37.0, 37.0, 37.0, 37.0,\n",
    "        40.0, 40.0, 40.0, 40.0, 40.0, 40.0, 40.0,\n",
    "        45.0, 45.0, 45.0, 45.0, 45.0, 45.0, 45.0\n",
    "    ],\n",
    "    \"Time\": [\n",
    "        0.0, 4.0, 8.0, 12.0, 16.0, 20.0, 24.0,\n",
    "        0.0, 4.0, 8.0, 12.0, 16.0, 20.0, 24.0,\n",
    "        0.0, 4.0, 8.0, 12.0, 16.0, 20.0, 24.0,\n",
    "        0.0, 4.0, 8.0, 12.0, 16.0, 20.0, 24.0\n",
    "    ],\n",
    "    \"OpticalDensity\": [\n",
    "        0.086266, 0.224488, 0.646507, 0.930303, 0.952850, 1.025000, 1.002845,\n",
    "        0.090474, 0.235439, 0.678044, 0.975684, 0.999331, 1.075000, 1.051765,\n",
    "        0.087108, 0.226678, 0.652814, 0.939379, 0.962146, 1.035000, 1.012629,\n",
    "        0.073642, 0.191636, 0.551896, 0.794161, 0.813409, 0.875000, 0.856087\n",
    "    ]\n",
    "})"
   ]
  },
  {
   "cell_type": "code",
   "execution_count": null,
   "id": "105a3402",
   "metadata": {},
   "outputs": [
    {
     "name": "stdout",
     "output_type": "stream",
     "text": [
      "  35.0°C: 0.953488\n",
      "  37.0°C: 1.000000\n",
      "  40.0°C: 0.962790\n",
      "  45.0°C: 0.813953\n"
     ]
    }
   ],
   "source": [
    "temperature_final_od = extract_final_values(temperature_data, \"t, °C\")\n",
    "temperature_coefficients = calculate_coefficients(temperature_final_od, reference_key=37.0)\n",
    "temperature_coefficients = format_coefficients(temperature_coefficients, \"°C\")\n",
    "\n",
    "print_coefficient_report(temperature_coefficients)"
   ]
  }
 ],
 "metadata": {
  "kernelspec": {
   "display_name": ".venv312",
   "language": "python",
   "name": "python3"
  },
  "language_info": {
   "codemirror_mode": {
    "name": "ipython",
    "version": 3
   },
   "file_extension": ".py",
   "mimetype": "text/x-python",
   "name": "python",
   "nbconvert_exporter": "python",
   "pygments_lexer": "ipython3",
   "version": "3.12.10"
  }
 },
 "nbformat": 4,
 "nbformat_minor": 5
}
